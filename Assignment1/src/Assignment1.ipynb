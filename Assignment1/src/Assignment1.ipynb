{
 "cells": [
  {
   "cell_type": "markdown",
   "metadata": {},
   "source": [
    "METHOD 1 "
   ]
  },
  {
   "cell_type": "markdown",
   "metadata": {},
   "source": [
    "We imported random library and opened the .txt file,reomve hash_id row from the list read and then with the for loop devided the content \n",
    "on the basis of number of members of team provided in last line."
   ]
  },
  {
   "cell_type": "code",
   "execution_count": 57,
   "metadata": {},
   "outputs": [],
   "source": [
    "import random\n",
    "fo = open(\"students.txt\" , \"r\")\n",
    "content = fo.readlines()\n",
    "content.remove('Student,Hash_id\\n')"
   ]
  },
  {
   "cell_type": "code",
   "execution_count": 58,
   "metadata": {},
   "outputs": [
    {
     "data": {
      "text/plain": [
       "[['Christopher Thacker,-3902187348021919782\\n',\n",
       "  'Henry Reichard,-2886551810478985348\\n',\n",
       "  'John Weber,2836559261835779102\\n',\n",
       "  'Byungjin Kang,-5748223395222085748\\n',\n",
       "  'Jeremy Hudson,-6272853571550332958\\n',\n",
       "  'Naseeb Thapaliya,-5285248223491365467\\n',\n",
       "  'Kun Yang,2563187256803808469\\n'],\n",
       " ['Harini Booravalli Suresh,-4093258774299285144\\n',\n",
       "  'Rohit Reddy Gade,-4623969955760145159\\n',\n",
       "  'Dimithra Ratnayake,-1632657826008984490\\n',\n",
       "  'Christopher Edgecombe,6199857640101735323\\n',\n",
       "  'Jaron Dunham,3889088399491561781\\n',\n",
       "  'Daniel Frye,-2809269155154333602\\n',\n",
       "  'Gabriel Wilmoth,7677876049958771061\\n'],\n",
       " ['Ioannis Batsios,3935875508609012725\\n',\n",
       "  'Shah Nafis Rafique,-3883714585606695496\\n',\n",
       "  'lavanya Goluguri,1711906030537001898\\n',\n",
       "  'Daniel Foster,6764292987690706695\\n',\n",
       "  'Unnati Khivasara,6259802738933602461\\n',\n",
       "  'Wahab Ehsan,2518675181136625693\\n',\n",
       "  'Michael Follari,6810089603355070317\\n'],\n",
       " ['James Polk,6866171654675246582\\n',\n",
       "  'Miguel Gaspar Utrera,493454735766240990\\n',\n",
       "  'Matthew Moretz,6222526768225508173\\n',\n",
       "  'William Downs,336891139488150869\\n',\n",
       "  'Sultan Al bogami,3949768801884845523\\n',\n",
       "  'Jorge Salas,455657944666492550\\n',\n",
       "  'Rinty Chowdhury,1583776007752598970\\n'],\n",
       " ['Akash Meghani,-2242847958711309170\\n',\n",
       "  'Sahithi Vanteru,-2799127417815973688\\n',\n",
       "  'Seth Goodwin,259212972574503367\\n',\n",
       "  'Jamie Weathers,7494716666415913531\\n',\n",
       "  'Anusha Vanama,-1797989270649470277\\n',\n",
       "  'Jackie Cuong,5769483329530745425\\n',\n",
       "  'Hieu Vo,1493112895152592131\\n']]"
      ]
     },
     "execution_count": 58,
     "metadata": {},
     "output_type": "execute_result"
    }
   ],
   "source": [
    "def chunks(l, content):   \n",
    "    for i in range(0, len(l), content):\n",
    "        yield l[i:i + content]\n",
    "\n",
    "random.shuffle(content)\n",
    "list(chunks(content, 7))"
   ]
  },
  {
   "cell_type": "markdown",
   "metadata": {},
   "source": [
    "METHOD 2"
   ]
  },
  {
   "cell_type": "markdown",
   "metadata": {},
   "source": [
    "In this method i have used list comprehension instead of for loop and then shuffled the list and then printed it on the basis of \n",
    "number of teams provided."
   ]
  },
  {
   "cell_type": "code",
   "execution_count": 64,
   "metadata": {},
   "outputs": [],
   "source": [
    "import random\n",
    "\n",
    "list1 = [i.strip(\"\\n\") for i in (open('students.txt'))]\n",
    "random.shuffle(lst)\n"
   ]
  },
  {
   "cell_type": "code",
   "execution_count": 67,
   "metadata": {},
   "outputs": [
    {
     "data": {
      "text/plain": [
       "[['Student,Hash_id',\n",
       "  'Sultan Al bogami,3949768801884845523',\n",
       "  'Ioannis Batsios,3935875508609012725',\n",
       "  'Rinty Chowdhury,1583776007752598970',\n",
       "  'Jackie Cuong,5769483329530745425'],\n",
       " ['William Downs,336891139488150869',\n",
       "  'Jaron Dunham,3889088399491561781',\n",
       "  'Christopher Edgecombe,6199857640101735323',\n",
       "  'Wahab Ehsan,2518675181136625693',\n",
       "  'Michael Follari,6810089603355070317'],\n",
       " ['Daniel Frye,-2809269155154333602',\n",
       "  'Miguel Gaspar Utrera,493454735766240990',\n",
       "  'Seth Goodwin,259212972574503367',\n",
       "  'Jeremy Hudson,-6272853571550332958',\n",
       "  'Byungjin Kang,-5748223395222085748'],\n",
       " ['Matthew Moretz,6222526768225508173',\n",
       "  'Shah Nafis Rafique,-3883714585606695496',\n",
       "  'Henry Reichard,-2886551810478985348',\n",
       "  'Jorge Salas,455657944666492550',\n",
       "  'Christopher Thacker,-3902187348021919782'],\n",
       " ['Hieu Vo,1493112895152592131',\n",
       "  'Jamie Weathers,7494716666415913531',\n",
       "  'John Weber,2836559261835779102',\n",
       "  'Gabriel Wilmoth,7677876049958771061',\n",
       "  'Kun Yang,2563187256803808469'],\n",
       " ['Harini Booravalli Suresh,-4093258774299285144',\n",
       "  'Daniel Foster,6764292987690706695',\n",
       "  'Rohit Reddy Gade,-4623969955760145159',\n",
       "  'lavanya Goluguri,1711906030537001898',\n",
       "  'Unnati Khivasara,6259802738933602461'],\n",
       " ['Akash Meghani,-2242847958711309170',\n",
       "  'James Polk,6866171654675246582',\n",
       "  'Dimithra Ratnayake,-1632657826008984490',\n",
       "  'Naseeb Thapaliya,-5285248223491365467',\n",
       "  'Anusha Vanama,-1797989270649470277'],\n",
       " ['Sahithi Vanteru,-2799127417815973688']]"
      ]
     },
     "execution_count": 67,
     "metadata": {},
     "output_type": "execute_result"
    }
   ],
   "source": [
    "[list1[X:X+5] for X in range(0, len(lst), 5)]"
   ]
  },
  {
   "cell_type": "code",
   "execution_count": null,
   "metadata": {},
   "outputs": [],
   "source": []
  },
  {
   "cell_type": "code",
   "execution_count": null,
   "metadata": {},
   "outputs": [],
   "source": []
  },
  {
   "cell_type": "code",
   "execution_count": 28,
   "metadata": {},
   "outputs": [],
   "source": []
  },
  {
   "cell_type": "code",
   "execution_count": null,
   "metadata": {},
   "outputs": [],
   "source": []
  },
  {
   "cell_type": "code",
   "execution_count": null,
   "metadata": {},
   "outputs": [],
   "source": []
  }
 ],
 "metadata": {
  "kernelspec": {
   "display_name": "Python 3",
   "language": "python",
   "name": "python3"
  },
  "language_info": {
   "codemirror_mode": {
    "name": "ipython",
    "version": 3
   },
   "file_extension": ".py",
   "mimetype": "text/x-python",
   "name": "python",
   "nbconvert_exporter": "python",
   "pygments_lexer": "ipython3",
   "version": "3.6.5"
  }
 },
 "nbformat": 4,
 "nbformat_minor": 2
}
